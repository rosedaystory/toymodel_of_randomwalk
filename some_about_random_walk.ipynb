{
 "cells": [
  {
   "cell_type": "code",
   "execution_count": 1,
   "metadata": {
    "collapsed": false
   },
   "outputs": [
    {
     "name": "stderr",
     "output_type": "stream",
     "text": [
      "C:\\ProgramData\\Anaconda2\\lib\\site-packages\\statsmodels\\compat\\pandas.py:56: FutureWarning: The pandas.core.datetools module is deprecated and will be removed in a future version. Please use the pandas.tseries module instead.\n",
      "  from pandas.core import datetools\n"
     ]
    }
   ],
   "source": [
    "from sklearn.datasets import make_regression\n",
    "import numpy as np\n",
    "import scipy as sp\n",
    "import scipy.stats as stats\n",
    "import matplotlib.pyplot as plt\n",
    "import pandas as pd\n",
    "import seaborn as sns\n",
    "import sklearn as sk\n",
    "import statsmodels.api as sm\n",
    "import statsmodels.formula.api as smf\n",
    "import matplotlib as mpl\n",
    "from ipykernel import kernelapp as app"
   ]
  },
  {
   "cell_type": "code",
   "execution_count": 337,
   "metadata": {
    "collapsed": false
   },
   "outputs": [],
   "source": [
    "\n",
    "class Rand_walk:\n",
    "    \n",
    "    def __init__(self,n_data, n_length):\n",
    "        self.n_data = n_data\n",
    "        self.n_length = n_length\n",
    "        np.random.seed()\n",
    "        self.rand = np.insert(np.cumsum(np.random.randn(n_data, n_length),axis=1),0,0,axis=1)\n",
    "        self.rand_df = pd.DataFrame(self.rand.T)\n",
    "\n",
    "    \n",
    "    def draw_rand(self):\n",
    "        \"\"\"\n",
    "        draw the random walk.\n",
    "        \"\"\"\n",
    "        plt.plot(range(self.n_length + 1),self.rand_df)\n",
    "        plt.show()\n",
    "        \n",
    "    def std(self,ensemble=True,*args):\n",
    "        \"\"\"\n",
    "        if ensemble == True , calculate every ith ensemble std\n",
    "        if ensemble != True, calculate each randomwalk std\n",
    "        default = True\n",
    "        \"\"\"\n",
    "        if ensemble == True:\n",
    "            return self.rand_df.std(axis=1)\n",
    "        else:\n",
    "            return self.rand_df.std(axis=0)\n",
    "    def mean(self, ensemble=True):\n",
    "        \"\"\"\n",
    "        if ensemble == True , calculate every ith ensemble mean\n",
    "        if ensemble != True, calculate each randomwalk mean\n",
    "        default = True\n",
    "        \"\"\"\n",
    "        if ensemble == True:\n",
    "            return self.rand_df.mean(axis=1)\n",
    "        else:\n",
    "            return self.rand_df.mean(axis=0)        \n",
    "    \n",
    "    def cov(self,i,j):\n",
    "        \"\"\"\n",
    "        calculate cov of random walk of ith with jth\n",
    "        \"\"\"\n",
    "        return ((self.rand_df.iloc[i] - self.rand_df.iloc[i].mean())*(self.rand_df.iloc[j] - self.rand_df.iloc[j].mean())).mean()\n",
    "    def std2(self):\n",
    "        a = np.random.randn(len(self.rand_df[0]),len(self.rand_df[0]))\n",
    "        b = self.std()\n",
    "        for i in range(len(self.rand_df[0])):\n",
    "            for j in range(len(self.rand_df[0])):\n",
    "                a[i][j] = b[i]*b[j]\n",
    "        return a\n",
    "    \n",
    "    def cov_all(self):\n",
    "        df_mean = (self.rand_df.T - self.rand_df.T.mean(axis = 0))\n",
    "        a = np.random.randn(len(self.rand_df[0]),len(self.rand_df[0]))\n",
    "        for i in range(len(self.rand_df[0])):\n",
    "            for j in range(len(self.rand_df[0])):\n",
    "                a[i][j] = (df_mean[i] * df_mean[j]).mean()\n",
    "        return a\n",
    "    \n",
    "    def lo (self,i,j):\n",
    "        return self.cov(i,j) / self.std()[i] / self.std()[j]\n",
    "    \n",
    "    def lo_all(self):\n",
    "        return self.cov_all() / self.std2()\n"
   ]
  },
  {
   "cell_type": "code",
   "execution_count": null,
   "metadata": {
    "collapsed": false
   },
   "outputs": [],
   "source": []
  },
  {
   "cell_type": "code",
   "execution_count": null,
   "metadata": {
    "collapsed": false,
    "scrolled": true
   },
   "outputs": [],
   "source": []
  },
  {
   "cell_type": "code",
   "execution_count": null,
   "metadata": {
    "collapsed": false
   },
   "outputs": [],
   "source": []
  },
  {
   "cell_type": "code",
   "execution_count": null,
   "metadata": {
    "collapsed": false
   },
   "outputs": [],
   "source": []
  },
  {
   "cell_type": "code",
   "execution_count": null,
   "metadata": {
    "collapsed": true
   },
   "outputs": [],
   "source": []
  },
  {
   "cell_type": "code",
   "execution_count": null,
   "metadata": {
    "collapsed": false,
    "scrolled": false
   },
   "outputs": [],
   "source": []
  },
  {
   "cell_type": "code",
   "execution_count": null,
   "metadata": {
    "collapsed": false
   },
   "outputs": [],
   "source": []
  },
  {
   "cell_type": "code",
   "execution_count": null,
   "metadata": {
    "collapsed": false
   },
   "outputs": [],
   "source": [
    "\n",
    "\n"
   ]
  },
  {
   "cell_type": "code",
   "execution_count": null,
   "metadata": {
    "collapsed": false
   },
   "outputs": [],
   "source": []
  },
  {
   "cell_type": "code",
   "execution_count": null,
   "metadata": {
    "collapsed": false
   },
   "outputs": [],
   "source": []
  },
  {
   "cell_type": "code",
   "execution_count": null,
   "metadata": {
    "collapsed": false
   },
   "outputs": [],
   "source": []
  },
  {
   "cell_type": "code",
   "execution_count": null,
   "metadata": {
    "collapsed": false
   },
   "outputs": [],
   "source": []
  },
  {
   "cell_type": "code",
   "execution_count": null,
   "metadata": {
    "collapsed": true
   },
   "outputs": [],
   "source": []
  }
 ],
 "metadata": {
  "kernelspec": {
   "display_name": "Python 2",
   "language": "python",
   "name": "python2"
  },
  "language_info": {
   "codemirror_mode": {
    "name": "ipython",
    "version": 2
   },
   "file_extension": ".py",
   "mimetype": "text/x-python",
   "name": "python",
   "nbconvert_exporter": "python",
   "pygments_lexer": "ipython2",
   "version": "2.7.13"
  }
 },
 "nbformat": 4,
 "nbformat_minor": 2
}
